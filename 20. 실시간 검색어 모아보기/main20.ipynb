{
 "cells": [
  {
   "cell_type": "code",
   "execution_count": 1,
   "metadata": {},
   "outputs": [
    {
     "name": "stderr",
     "output_type": "stream",
     "text": [
      "C:\\Users\\김리나\\AppData\\Local\\Temp\\ipykernel_8888\\2342386311.py:4: DeprecationWarning: executable_path has been deprecated, please pass in a Service object\n",
      "  driver = webdriver.Chrome(ChromeDriverManager().install())\n"
     ]
    }
   ],
   "source": [
    "from webdriver_manager.chrome import ChromeDriverManager\n",
    "from selenium import webdriver\n",
    "\n",
    "driver = webdriver.Chrome(ChromeDriverManager().install())\n",
    "\n",
    "URL='http://www.google.co.kr'\n",
    "driver.get(url=URL)\n",
    "driver.implicitly_wait(time_to_wait=10)"
   ]
  },
  {
   "cell_type": "code",
   "execution_count": 2,
   "metadata": {},
   "outputs": [
    {
     "name": "stdout",
     "output_type": "stream",
     "text": [
      "모범택시 2 이제훈\n",
      "최수호\n",
      "체포동의 요구서 송부\n",
      "최자\n",
      "견미리\n",
      "이승기\n",
      "TV조선 재승인 심사위원장\n",
      "복권\n",
      "여성 전성기 40대까지\n",
      "아파트\n"
     ]
    }
   ],
   "source": [
    "from selenium.webdriver.common.by import By\n",
    "URL='http://signal.bz/news'\n",
    "driver.get(url=URL)\n",
    "driver.implicitly_wait(time_to_wait=10)\n",
    "\n",
    "naver_results = driver.find_elements(By.CSS_SELECTOR, '#app > div > main > div > section > div > section > section:nth-child(2) > div:nth-child(2) > div > div > div > a > span.rank-text')\n",
    "\n",
    "\n",
    "naver_list = []\n",
    "for naver_result in naver_results:\n",
    "    print(naver_result.text)\n",
    "    naver_list.append(naver_result.text)"
   ]
  },
  {
   "cell_type": "code",
   "execution_count": 7,
   "metadata": {},
   "outputs": [
    {
     "name": "stdout",
     "output_type": "stream",
     "text": [
      "모범택시 시즌 2\n",
      "TV조선 재승인 의혹\n",
      "이성수 대표 이수만\n",
      "나는 솔로 13기\n",
      "체포동의 요구서 송부\n",
      "최자\n",
      "나 혼자 산다\n",
      "여성 전성기 40대까지\n",
      "\n",
      "\n"
     ]
    }
   ],
   "source": [
    "URL='http://www.nate.com'\n",
    "driver.get(url=URL)\n",
    "driver.implicitly_wait(time_to_wait=10)\n",
    "\n",
    "driver.find_element(By.CSS_SELECTOR,'#olLiveIssueKeyword > li:nth-child(1) > a > span.txt_rank').click()\n",
    "\n",
    "nate_results = driver.find_elements(By.CSS_SELECTOR,'#search-option > form:nth-child(1) > fieldset > div.issue-kwd > span > a')\n",
    "\n",
    "nate_list = []\n",
    "for nate_result in nate_results:\n",
    "    print(nate_result.text)\n",
    "    nate_list.append(nate_result.text)"
   ]
  },
  {
   "cell_type": "code",
   "execution_count": 5,
   "metadata": {},
   "outputs": [
    {
     "name": "stdout",
     "output_type": "stream",
     "text": [
      "최수호\n",
      "이승기\n",
      "모범택시 시즌2\n",
      "유아인\n",
      "송중기\n",
      "김다영\n",
      "이재명\n",
      "위메이드\n",
      "피크타임\n",
      "하이브\n"
     ]
    }
   ],
   "source": [
    "import time\n",
    "\n",
    "URL='http://zum.com'\n",
    "driver.get(url=URL)\n",
    "driver.implicitly_wait(time_to_wait=10)\n",
    "\n",
    "driver.find_element(By.CSS_SELECTOR, '#search-input').send_keys(\"아무거나 검색\")\n",
    "time.sleep(0.5)\n",
    "\n",
    "driver.find_element(By.CSS_SELECTOR, '#app > div > header > div.search_bar > div > fieldset > div > button.search').click()\n",
    "time.sleep(1)\n",
    "\n",
    "zum_results = driver.find_elements(By.CSS_SELECTOR, '#issue_wrap > ul > li > div > a:nth-child(1) > span.txt')\n",
    "\n",
    "zum_list = []\n",
    "for zum_result in zum_results:\n",
    "    print(zum_result.text)\n",
    "    zum_list.append(zum_result.text)"
   ]
  },
  {
   "cell_type": "code",
   "execution_count": 6,
   "metadata": {},
   "outputs": [
    {
     "name": "stdout",
     "output_type": "stream",
     "text": [
      "네이버 ['모범택시 2 이제훈', '최수호', '체포동의 요구서 송부', '최자', '견미리', '이승기', 'TV조선 재승인 심사위원장', '복권', '여성 전성기 40대까지', '아파트']\n",
      "네이트 ['모범택시 시즌 2', '이성수 대표 이수만', '이재명 체포동의 검찰에', 'TV조선 심사위원장 구속', '최자', '이준석 생방송 펑크', '나 혼자 산다', '여성 전성기 40대까지', '', '']\n",
      "줌 ['최수호', '이승기', '모범택시 시즌2', '유아인', '송중기', '김다영', '이재명', '위메이드', '피크타임', '하이브']\n"
     ]
    }
   ],
   "source": [
    "print(\"네이버\", naver_list)\n",
    "print(\"네이트\", nate_list)\n",
    "print(\"줌\", zum_list)"
   ]
  }
 ],
 "metadata": {
  "kernelspec": {
   "display_name": "base",
   "language": "python",
   "name": "python3"
  },
  "language_info": {
   "codemirror_mode": {
    "name": "ipython",
    "version": 3
   },
   "file_extension": ".py",
   "mimetype": "text/x-python",
   "name": "python",
   "nbconvert_exporter": "python",
   "pygments_lexer": "ipython3",
   "version": "3.9.13"
  },
  "orig_nbformat": 4,
  "vscode": {
   "interpreter": {
    "hash": "e4cce46d6be9934fbd27f9ca0432556941ea5bdf741d4f4d64c6cd7f8dfa8fba"
   }
  }
 },
 "nbformat": 4,
 "nbformat_minor": 2
}
